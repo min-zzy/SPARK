{
  "nbformat": 4,
  "nbformat_minor": 0,
  "metadata": {
    "colab": {
      "name": "spark&파이썬_pca.ipynb",
      "provenance": []
    },
    "kernelspec": {
      "name": "python3",
      "display_name": "Python 3"
    }
  },
  "cells": [
    {
      "cell_type": "markdown",
      "metadata": {
        "id": "Z3OOox-aQhUm"
      },
      "source": [
        "# **Spark으로 PCA** "
      ]
    },
    {
      "cell_type": "code",
      "metadata": {
        "id": "R5-ECsWHqxcT"
      },
      "source": [
        "# code for loading the format for the notebook\n",
        "import os\n",
        "\n",
        "# path : store the current path to convert back to it later\n",
        "path = os.getcwd()"
      ],
      "execution_count": null,
      "outputs": []
    },
    {
      "cell_type": "code",
      "metadata": {
        "colab": {
          "base_uri": "https://localhost:8080/"
        },
        "id": "QNh7MWgQ6C83",
        "outputId": "56ae698e-0ab4-4ac8-f7a9-717319b16f69"
      },
      "source": [
        "pip install \"watermark==2.0.2\""
      ],
      "execution_count": null,
      "outputs": [
        {
          "output_type": "stream",
          "text": [
            "Collecting watermark==2.0.2\n",
            "  Using cached https://files.pythonhosted.org/packages/60/fe/3ed83b6122e70dce6fe269dfd763103c333f168bf91037add73ea4fe81c2/watermark-2.0.2-py2.py3-none-any.whl\n",
            "Requirement already satisfied: ipython in /usr/local/lib/python3.7/dist-packages (from watermark==2.0.2) (5.5.0)\n",
            "Requirement already satisfied: simplegeneric>0.8 in /usr/local/lib/python3.7/dist-packages (from ipython->watermark==2.0.2) (0.8.1)\n",
            "Requirement already satisfied: decorator in /usr/local/lib/python3.7/dist-packages (from ipython->watermark==2.0.2) (4.4.2)\n",
            "Requirement already satisfied: setuptools>=18.5 in /usr/local/lib/python3.7/dist-packages (from ipython->watermark==2.0.2) (56.1.0)\n",
            "Requirement already satisfied: pickleshare in /usr/local/lib/python3.7/dist-packages (from ipython->watermark==2.0.2) (0.7.5)\n",
            "Requirement already satisfied: pexpect; sys_platform != \"win32\" in /usr/local/lib/python3.7/dist-packages (from ipython->watermark==2.0.2) (4.8.0)\n",
            "Requirement already satisfied: traitlets>=4.2 in /usr/local/lib/python3.7/dist-packages (from ipython->watermark==2.0.2) (5.0.5)\n",
            "Requirement already satisfied: prompt-toolkit<2.0.0,>=1.0.4 in /usr/local/lib/python3.7/dist-packages (from ipython->watermark==2.0.2) (1.0.18)\n",
            "Requirement already satisfied: pygments in /usr/local/lib/python3.7/dist-packages (from ipython->watermark==2.0.2) (2.6.1)\n",
            "Requirement already satisfied: ptyprocess>=0.5 in /usr/local/lib/python3.7/dist-packages (from pexpect; sys_platform != \"win32\"->ipython->watermark==2.0.2) (0.7.0)\n",
            "Requirement already satisfied: ipython-genutils in /usr/local/lib/python3.7/dist-packages (from traitlets>=4.2->ipython->watermark==2.0.2) (0.2.0)\n",
            "Requirement already satisfied: six>=1.9.0 in /usr/local/lib/python3.7/dist-packages (from prompt-toolkit<2.0.0,>=1.0.4->ipython->watermark==2.0.2) (1.15.0)\n",
            "Requirement already satisfied: wcwidth in /usr/local/lib/python3.7/dist-packages (from prompt-toolkit<2.0.0,>=1.0.4->ipython->watermark==2.0.2) (0.2.5)\n",
            "Installing collected packages: watermark\n",
            "  Found existing installation: watermark 2.2.0\n",
            "    Can't uninstall 'watermark'. No files were found to uninstall.\n",
            "Successfully installed watermark-2.0.2\n"
          ],
          "name": "stdout"
        }
      ]
    },
    {
      "cell_type": "code",
      "metadata": {
        "colab": {
          "base_uri": "https://localhost:8080/"
        },
        "id": "kaASzzFE3yaQ",
        "outputId": "9a63e620-7b4f-4eb7-dbf0-038f6f5a3a63"
      },
      "source": [
        "pip install -e git+https://github.com/rasbt/watermark#egg=watermark"
      ],
      "execution_count": null,
      "outputs": [
        {
          "output_type": "stream",
          "text": [
            "Obtaining watermark from git+https://github.com/rasbt/watermark#egg=watermark\n",
            "  Updating ./src/watermark clone\n",
            "  Running command git fetch -q --tags\n",
            "  Running command git reset --hard -q d3553b68dd30ac5b0951a6fae6083236e4c7f3bd\n",
            "Requirement already satisfied: ipython in /usr/local/lib/python3.7/dist-packages (from watermark) (5.5.0)\n",
            "Requirement already satisfied: importlib-metadata<3.0 in /usr/local/lib/python3.7/dist-packages (from watermark) (2.1.1)\n",
            "Requirement already satisfied: pickleshare in /usr/local/lib/python3.7/dist-packages (from ipython->watermark) (0.7.5)\n",
            "Requirement already satisfied: pexpect; sys_platform != \"win32\" in /usr/local/lib/python3.7/dist-packages (from ipython->watermark) (4.8.0)\n",
            "Requirement already satisfied: prompt-toolkit<2.0.0,>=1.0.4 in /usr/local/lib/python3.7/dist-packages (from ipython->watermark) (1.0.18)\n",
            "Requirement already satisfied: pygments in /usr/local/lib/python3.7/dist-packages (from ipython->watermark) (2.6.1)\n",
            "Requirement already satisfied: simplegeneric>0.8 in /usr/local/lib/python3.7/dist-packages (from ipython->watermark) (0.8.1)\n",
            "Requirement already satisfied: traitlets>=4.2 in /usr/local/lib/python3.7/dist-packages (from ipython->watermark) (5.0.5)\n",
            "Requirement already satisfied: setuptools>=18.5 in /usr/local/lib/python3.7/dist-packages (from ipython->watermark) (56.1.0)\n",
            "Requirement already satisfied: decorator in /usr/local/lib/python3.7/dist-packages (from ipython->watermark) (4.4.2)\n",
            "Requirement already satisfied: zipp>=0.5 in /usr/local/lib/python3.7/dist-packages (from importlib-metadata<3.0->watermark) (3.4.1)\n",
            "Requirement already satisfied: ptyprocess>=0.5 in /usr/local/lib/python3.7/dist-packages (from pexpect; sys_platform != \"win32\"->ipython->watermark) (0.7.0)\n",
            "Requirement already satisfied: six>=1.9.0 in /usr/local/lib/python3.7/dist-packages (from prompt-toolkit<2.0.0,>=1.0.4->ipython->watermark) (1.15.0)\n",
            "Requirement already satisfied: wcwidth in /usr/local/lib/python3.7/dist-packages (from prompt-toolkit<2.0.0,>=1.0.4->ipython->watermark) (0.2.5)\n",
            "Requirement already satisfied: ipython-genutils in /usr/local/lib/python3.7/dist-packages (from traitlets>=4.2->ipython->watermark) (0.2.0)\n",
            "Installing collected packages: watermark\n",
            "  Found existing installation: watermark 2.0.2\n",
            "    Uninstalling watermark-2.0.2:\n",
            "      Successfully uninstalled watermark-2.0.2\n",
            "  Running setup.py develop for watermark\n",
            "Successfully installed watermark\n"
          ],
          "name": "stdout"
        }
      ]
    },
    {
      "cell_type": "code",
      "metadata": {
        "colab": {
          "base_uri": "https://localhost:8080/"
        },
        "id": "hRD-u5El6JIa",
        "outputId": "014118be-70fc-4b25-def4-7e9cda86f6d6"
      },
      "source": [
        "pip install pyspark"
      ],
      "execution_count": null,
      "outputs": [
        {
          "output_type": "stream",
          "text": [
            "Requirement already satisfied: pyspark in /usr/local/lib/python3.7/dist-packages (3.1.1)\n",
            "Requirement already satisfied: py4j==0.10.9 in /usr/local/lib/python3.7/dist-packages (from pyspark) (0.10.9)\n"
          ],
          "name": "stdout"
        }
      ]
    },
    {
      "cell_type": "code",
      "metadata": {
        "colab": {
          "base_uri": "https://localhost:8080/"
        },
        "id": "luMJlBO0KRh6",
        "outputId": "bd9766ff-87de-43fa-94c9-969a6e623fb7"
      },
      "source": [
        " import sys\n",
        " !conda install --yes --prefix {sys.prefix} watermark"
      ],
      "execution_count": null,
      "outputs": [
        {
          "output_type": "stream",
          "text": [
            "/bin/bash: conda: command not found\n"
          ],
          "name": "stdout"
        }
      ]
    },
    {
      "cell_type": "code",
      "metadata": {
        "colab": {
          "base_uri": "https://localhost:8080/"
        },
        "id": "ku1CQ2OI3ZK_",
        "outputId": "077b826c-85bb-4c14-d5f7-72aaffb77b71"
      },
      "source": [
        "os.chdir(path)\n",
        "\n",
        "%matplotlib inline\n",
        "%load_ext watermark\n",
        "%load_ext autoreload\n",
        "%autoreload 2\n",
        "%config InlineBackend.figure_format = 'retina'\n",
        "%watermark -v -p numpy,scipy,sklearn,pandas,matplotlib\n",
        "\n",
        "\n",
        "import numpy as np\n",
        "import pandas as pd\n",
        "import matplotlib.pyplot as plt\n",
        "from sklearn.datasets import load_iris\n",
        "from pyspark.conf import SparkConf\n",
        "from pyspark.sql import SparkSession \n",
        "from pyspark.ml.feature import VectorAssembler, StandardScaler, PCA\n",
        "\n",
        "# create the SparkSession class,\n",
        "# which is the entry point into all functionality in Spark\n",
        "# The .master part sets it to run on all cores on local, note\n",
        "# that we should leave out the .master part if we're actually\n",
        "# running the job on a cluster, or else we won't be actually\n",
        "# using the cluster\n",
        "spark = (SparkSession.\n",
        "         builder.\n",
        "         master('local[*]').\n",
        "         appName('PCA').\n",
        "         config(conf = SparkConf()).\n",
        "         getOrCreate())\n",
        "\n",
        "%watermark -a 'Ethen' -d -t -v -p numpy,pandas,matplotlib,sklearn,pyspark"
      ],
      "execution_count": null,
      "outputs": [
        {
          "output_type": "stream",
          "text": [
            "Python implementation: CPython\n",
            "Python version       : 3.7.10\n",
            "IPython version      : 5.5.0\n",
            "\n",
            "numpy     : 1.19.5\n",
            "scipy     : 1.4.1\n",
            "sklearn   : 0.0\n",
            "pandas    : 1.1.5\n",
            "matplotlib: 3.2.2\n",
            "\n",
            "Author: Ethen\n",
            "\n",
            "Python implementation: CPython\n",
            "Python version       : 3.7.10\n",
            "IPython version      : 5.5.0\n",
            "\n",
            "numpy     : 1.19.5\n",
            "pandas    : 1.1.5\n",
            "matplotlib: 3.2.2\n",
            "sklearn   : 0.0\n",
            "pyspark   : 3.1.1\n",
            "\n"
          ],
          "name": "stdout"
        }
      ]
    },
    {
      "cell_type": "markdown",
      "metadata": {
        "id": "sv5-wgKVRdat"
      },
      "source": [
        "**ombine a given list of columns into a single vector column**"
      ]
    },
    {
      "cell_type": "code",
      "metadata": {
        "colab": {
          "base_uri": "https://localhost:8080/"
        },
        "id": "qKU85NLC6gL9",
        "outputId": "f32b8024-aa2a-402d-c933-f135d096805f"
      },
      "source": [
        "# specify the input columns' name and\n",
        "# the combined output column's name\n",
        "assembler = VectorAssembler(\n",
        "    inputCols = iris.feature_names, outputCol = 'features')\n",
        "\n",
        "# use it to transform the dataset and select just\n",
        "# the output column\n",
        "df = assembler.transform(dataset).select('features')\n",
        "df.show(6)"
      ],
      "execution_count": null,
      "outputs": [
        {
          "output_type": "stream",
          "text": [
            "+-----------------+\n",
            "|         features|\n",
            "+-----------------+\n",
            "|[5.1,3.5,1.4,0.2]|\n",
            "|[4.9,3.0,1.4,0.2]|\n",
            "|[4.7,3.2,1.3,0.2]|\n",
            "|[4.6,3.1,1.5,0.2]|\n",
            "|[5.0,3.6,1.4,0.2]|\n",
            "|[5.4,3.9,1.7,0.4]|\n",
            "+-----------------+\n",
            "only showing top 6 rows\n",
            "\n"
          ],
          "name": "stdout"
        }
      ]
    },
    {
      "cell_type": "markdown",
      "metadata": {
        "id": "e8DitFOeRWjx"
      },
      "source": [
        "**standardize the features**"
      ]
    },
    {
      "cell_type": "code",
      "metadata": {
        "colab": {
          "base_uri": "https://localhost:8080/"
        },
        "id": "yBLo3rYX6j6K",
        "outputId": "74fb4725-9d58-4d2e-f9f1-a05615550735"
      },
      "source": [
        "scaler = StandardScaler(\n",
        "    inputCol = 'features', \n",
        "    outputCol = 'scaledFeatures',\n",
        "    withMean = True,\n",
        "    withStd = True\n",
        ").fit(df)\n",
        "\n",
        "# when we transform the dataframe, the old\n",
        "# feature will still remain in it\n",
        "df_scaled = scaler.transform(df)\n",
        "df_scaled.show(6)"
      ],
      "execution_count": null,
      "outputs": [
        {
          "output_type": "stream",
          "text": [
            "+-----------------+--------------------+\n",
            "|         features|      scaledFeatures|\n",
            "+-----------------+--------------------+\n",
            "|[5.1,3.5,1.4,0.2]|[-0.8976738791967...|\n",
            "|[4.9,3.0,1.4,0.2]|[-1.1392004834649...|\n",
            "|[4.7,3.2,1.3,0.2]|[-1.3807270877331...|\n",
            "|[4.6,3.1,1.5,0.2]|[-1.5014903898672...|\n",
            "|[5.0,3.6,1.4,0.2]|[-1.0184371813308...|\n",
            "|[5.4,3.9,1.7,0.4]|[-0.5353839727944...|\n",
            "+-----------------+--------------------+\n",
            "only showing top 6 rows\n",
            "\n"
          ],
          "name": "stdout"
        }
      ]
    },
    {
      "cell_type": "markdown",
      "metadata": {
        "id": "1N3T68qfRLmC"
      },
      "source": [
        "**fit the PCA model**"
      ]
    },
    {
      "cell_type": "code",
      "metadata": {
        "colab": {
          "base_uri": "https://localhost:8080/"
        },
        "id": "TyvuAdj46nAQ",
        "outputId": "192eecfb-fb4e-4925-f3d2-ae527be30c5f"
      },
      "source": [
        "n_components = 2\n",
        "pca = PCA(\n",
        "    k = n_components, \n",
        "    inputCol = 'scaledFeatures', \n",
        "    outputCol = 'pcaFeatures'\n",
        ").fit(df_scaled)\n",
        "\n",
        "df_pca = pca.transform(df_scaled)\n",
        "print('Explained Variance Ratio', pca.explainedVariance.toArray())\n",
        "df_pca.show(6)"
      ],
      "execution_count": null,
      "outputs": [
        {
          "output_type": "stream",
          "text": [
            "Explained Variance Ratio [0.72962445 0.22850762]\n",
            "+-----------------+--------------------+--------------------+\n",
            "|         features|      scaledFeatures|         pcaFeatures|\n",
            "+-----------------+--------------------+--------------------+\n",
            "|[5.1,3.5,1.4,0.2]|[-0.8976738791967...|[2.25714117564811...|\n",
            "|[4.9,3.0,1.4,0.2]|[-1.1392004834649...|[2.07401301519962...|\n",
            "|[4.7,3.2,1.3,0.2]|[-1.3807270877331...|[2.35633511180617...|\n",
            "|[4.6,3.1,1.5,0.2]|[-1.5014903898672...|[2.29170678586969...|\n",
            "|[5.0,3.6,1.4,0.2]|[-1.0184371813308...|[2.38186270441693...|\n",
            "|[5.4,3.9,1.7,0.4]|[-0.5353839727944...|[2.06870060846769...|\n",
            "+-----------------+--------------------+--------------------+\n",
            "only showing top 6 rows\n",
            "\n"
          ],
          "name": "stdout"
        }
      ]
    },
    {
      "cell_type": "code",
      "metadata": {
        "id": "fvqeu3cs60zn"
      },
      "source": [
        "# not sure if this is the best way to do it\n",
        "X_pca = df_pca.rdd.map(lambda row: row.pcaFeatures).collect()\n",
        "X_pca = np.array(X_pca)"
      ],
      "execution_count": null,
      "outputs": []
    },
    {
      "cell_type": "code",
      "metadata": {
        "id": "hUkzj6Za63sA"
      },
      "source": [
        "# change default style figure and font size\n",
        "plt.style.use('fivethirtyeight')\n",
        "plt.rcParams['figure.figsize'] = 8, 6\n",
        "plt.rcParams['font.size'] = 12\n",
        "\n",
        "\n",
        "def plot_iris_pca(X_pca, y):\n",
        "    \"\"\"a scatter plot of the 2-dimensional iris data\"\"\"\n",
        "    markers = 's', 'x', 'o'\n",
        "    colors = list(plt.rcParams['axes.prop_cycle'])\n",
        "    target = np.unique(y)\n",
        "    for idx, (t, m) in enumerate(zip(target, markers)):\n",
        "        subset = X_pca[y == t]\n",
        "        plt.scatter(subset[:, 0], subset[:, 1], s = 50,\n",
        "                    c = colors[idx]['color'], label = t, marker = m)\n",
        "\n",
        "    plt.xlabel('PC 1')\n",
        "    plt.ylabel('PC 2')\n",
        "    plt.legend(loc = 'lower left')\n",
        "    plt.tight_layout()\n",
        "    plt.show()"
      ],
      "execution_count": null,
      "outputs": []
    },
    {
      "cell_type": "code",
      "metadata": {
        "colab": {
          "base_uri": "https://localhost:8080/",
          "height": 436
        },
        "id": "9FiPsU9Y64zJ",
        "outputId": "9bc5c176-11a0-4eed-9588-27e629cde2e6"
      },
      "source": [
        "plot_iris_pca(X_pca, y)"
      ],
      "execution_count": null,
      "outputs": [
        {
          "output_type": "display_data",
          "data": {
            "image/png": "[encoded data removed]",
            "text/plain": [
              "<Figure size 576x432 with 1 Axes>"
            ]
          },
          "metadata": {
            "tags": [],
            "image/png": {
              "width": 564,
              "height": 419
            }
          }
        }
      ]
    },
    {
      "cell_type": "code",
      "metadata": {
        "id": "PgYI0wzy7A0q"
      },
      "source": [
        "# stop the current sparkSession\n",
        "spark.stop()"
      ],
      "execution_count": null,
      "outputs": []
    },
    {
      "cell_type": "markdown",
      "metadata": {
        "id": "lPjuFJjUQ4Nf"
      },
      "source": [
        "**Time 비교**"
      ]
    },
    {
      "cell_type": "code",
      "metadata": {
        "colab": {
          "base_uri": "https://localhost:8080/"
        },
        "id": "W3tRQ0rZ6dIJ",
        "outputId": "839c7e2e-6b11-49a3-9910-4f0efd01ccbb"
      },
      "source": [
        "# time 비교\n",
        "\n",
        "%%time\n",
        "# load the data and convert it to a pandas DataFrame,\n",
        "# then use that to create the spark DataFrame\n",
        "iris = load_iris()\n",
        "X = iris['data']\n",
        "y = iris['target']\n",
        "\n",
        "data = pd.DataFrame(X, columns = iris.feature_names)\n",
        "dataset = spark.createDataFrame(data, iris.feature_names)\n",
        "dataset.show(6)\n",
        "\n",
        "# specify the input columns' name and\n",
        "# the combined output column's name\n",
        "assembler = VectorAssembler(\n",
        "    inputCols = iris.feature_names, outputCol = 'features')\n",
        "\n",
        "# use it to transform the dataset and select just\n",
        "# the output column\n",
        "df = assembler.transform(dataset).select('features')\n",
        "df.show(6)\n",
        "\n",
        "scaler = StandardScaler(\n",
        "    inputCol = 'features', \n",
        "    outputCol = 'scaledFeatures',\n",
        "    withMean = True,\n",
        "    withStd = True\n",
        ").fit(df)\n",
        "\n",
        "# when we transform the dataframe, the old\n",
        "# feature will still remain in it\n",
        "df_scaled = scaler.transform(df)\n",
        "df_scaled.show(6)\n",
        "\n",
        "n_components = 2\n",
        "pca = PCA(\n",
        "    k = n_components, \n",
        "    inputCol = 'scaledFeatures', \n",
        "    outputCol = 'pcaFeatures'\n",
        ").fit(df_scaled)\n",
        "\n",
        "df_pca = pca.transform(df_scaled)\n",
        "print('Explained Variance Ratio', pca.explainedVariance.toArray())\n",
        "df_pca.show(6)\n",
        "\n",
        "# not sure if this is the best way to do it\n",
        "X_pca = df_pca.rdd.map(lambda row: row.pcaFeatures).collect()\n",
        "X_pca = np.array(X_pca)"
      ],
      "execution_count": null,
      "outputs": [
        {
          "output_type": "stream",
          "text": [
            "+-----------------+----------------+-----------------+----------------+\n",
            "|sepal length (cm)|sepal width (cm)|petal length (cm)|petal width (cm)|\n",
            "+-----------------+----------------+-----------------+----------------+\n",
            "|              5.1|             3.5|              1.4|             0.2|\n",
            "|              4.9|             3.0|              1.4|             0.2|\n",
            "|              4.7|             3.2|              1.3|             0.2|\n",
            "|              4.6|             3.1|              1.5|             0.2|\n",
            "|              5.0|             3.6|              1.4|             0.2|\n",
            "|              5.4|             3.9|              1.7|             0.4|\n",
            "+-----------------+----------------+-----------------+----------------+\n",
            "only showing top 6 rows\n",
            "\n",
            "+-----------------+\n",
            "|         features|\n",
            "+-----------------+\n",
            "|[5.1,3.5,1.4,0.2]|\n",
            "|[4.9,3.0,1.4,0.2]|\n",
            "|[4.7,3.2,1.3,0.2]|\n",
            "|[4.6,3.1,1.5,0.2]|\n",
            "|[5.0,3.6,1.4,0.2]|\n",
            "|[5.4,3.9,1.7,0.4]|\n",
            "+-----------------+\n",
            "only showing top 6 rows\n",
            "\n",
            "+-----------------+--------------------+\n",
            "|         features|      scaledFeatures|\n",
            "+-----------------+--------------------+\n",
            "|[5.1,3.5,1.4,0.2]|[-0.8976738791967...|\n",
            "|[4.9,3.0,1.4,0.2]|[-1.1392004834649...|\n",
            "|[4.7,3.2,1.3,0.2]|[-1.3807270877331...|\n",
            "|[4.6,3.1,1.5,0.2]|[-1.5014903898672...|\n",
            "|[5.0,3.6,1.4,0.2]|[-1.0184371813308...|\n",
            "|[5.4,3.9,1.7,0.4]|[-0.5353839727944...|\n",
            "+-----------------+--------------------+\n",
            "only showing top 6 rows\n",
            "\n",
            "Explained Variance Ratio [0.72962445 0.22850762]\n",
            "+-----------------+--------------------+--------------------+\n",
            "|         features|      scaledFeatures|         pcaFeatures|\n",
            "+-----------------+--------------------+--------------------+\n",
            "|[5.1,3.5,1.4,0.2]|[-0.8976738791967...|[2.25714117564811...|\n",
            "|[4.9,3.0,1.4,0.2]|[-1.1392004834649...|[2.07401301519962...|\n",
            "|[4.7,3.2,1.3,0.2]|[-1.3807270877331...|[2.35633511180617...|\n",
            "|[4.6,3.1,1.5,0.2]|[-1.5014903898672...|[2.29170678586969...|\n",
            "|[5.0,3.6,1.4,0.2]|[-1.0184371813308...|[2.38186270441693...|\n",
            "|[5.4,3.9,1.7,0.4]|[-0.5353839727944...|[2.06870060846769...|\n",
            "+-----------------+--------------------+--------------------+\n",
            "only showing top 6 rows\n",
            "\n",
            "CPU times: user 152 ms, sys: 19.7 ms, total: 171 ms\n",
            "Wall time: 13.5 s\n"
          ],
          "name": "stdout"
        }
      ]
    },
    {
      "cell_type": "markdown",
      "metadata": {
        "id": "YRBVaqa3LsOl"
      },
      "source": [
        "# **파이썬으로 PCA**"
      ]
    },
    {
      "cell_type": "markdown",
      "metadata": {
        "id": "H43ydtsrR7TC"
      },
      "source": [
        "**데이터 불러오기**"
      ]
    },
    {
      "cell_type": "code",
      "metadata": {
        "colab": {
          "base_uri": "https://localhost:8080/",
          "height": 204
        },
        "id": "oPGecqM7Lufv",
        "outputId": "26ed15e8-3b64-4e5c-a099-ec7eb3b859a8"
      },
      "source": [
        "import pandas as pd\n",
        "url = \"https://archive.ics.uci.edu/ml/machine-learning-databases/iris/iris.data\"\n",
        "df = pd.read_csv(url, names=['sepal length','sepal width','petal length','petal width','target'])\n",
        "df.head()"
      ],
      "execution_count": null,
      "outputs": [
        {
          "output_type": "execute_result",
          "data": {
            "text/html": [
              "<div>\n",
              "<style scoped>\n",
              "    .dataframe tbody tr th:only-of-type {\n",
              "        vertical-align: middle;\n",
              "    }\n",
              "\n",
              "    .dataframe tbody tr th {\n",
              "        vertical-align: top;\n",
              "    }\n",
              "\n",
              "    .dataframe thead th {\n",
              "        text-align: right;\n",
              "    }\n",
              "</style>\n",
              "<table border=\"1\" class=\"dataframe\">\n",
              "  <thead>\n",
              "    <tr style=\"text-align: right;\">\n",
              "      <th></th>\n",
              "      <th>sepal length</th>\n",
              "      <th>sepal width</th>\n",
              "      <th>petal length</th>\n",
              "      <th>petal width</th>\n",
              "      <th>target</th>\n",
              "    </tr>\n",
              "  </thead>\n",
              "  <tbody>\n",
              "    <tr>\n",
              "      <th>0</th>\n",
              "      <td>5.1</td>\n",
              "      <td>3.5</td>\n",
              "      <td>1.4</td>\n",
              "      <td>0.2</td>\n",
              "      <td>Iris-setosa</td>\n",
              "    </tr>\n",
              "    <tr>\n",
              "      <th>1</th>\n",
              "      <td>4.9</td>\n",
              "      <td>3.0</td>\n",
              "      <td>1.4</td>\n",
              "      <td>0.2</td>\n",
              "      <td>Iris-setosa</td>\n",
              "    </tr>\n",
              "    <tr>\n",
              "      <th>2</th>\n",
              "      <td>4.7</td>\n",
              "      <td>3.2</td>\n",
              "      <td>1.3</td>\n",
              "      <td>0.2</td>\n",
              "      <td>Iris-setosa</td>\n",
              "    </tr>\n",
              "    <tr>\n",
              "      <th>3</th>\n",
              "      <td>4.6</td>\n",
              "      <td>3.1</td>\n",
              "      <td>1.5</td>\n",
              "      <td>0.2</td>\n",
              "      <td>Iris-setosa</td>\n",
              "    </tr>\n",
              "    <tr>\n",
              "      <th>4</th>\n",
              "      <td>5.0</td>\n",
              "      <td>3.6</td>\n",
              "      <td>1.4</td>\n",
              "      <td>0.2</td>\n",
              "      <td>Iris-setosa</td>\n",
              "    </tr>\n",
              "  </tbody>\n",
              "</table>\n",
              "</div>"
            ],
            "text/plain": [
              "   sepal length  sepal width  petal length  petal width       target\n",
              "0           5.1          3.5           1.4          0.2  Iris-setosa\n",
              "1           4.9          3.0           1.4          0.2  Iris-setosa\n",
              "2           4.7          3.2           1.3          0.2  Iris-setosa\n",
              "3           4.6          3.1           1.5          0.2  Iris-setosa\n",
              "4           5.0          3.6           1.4          0.2  Iris-setosa"
            ]
          },
          "metadata": {
            "tags": []
          },
          "execution_count": 21
        }
      ]
    },
    {
      "cell_type": "markdown",
      "metadata": {
        "id": "lxerqKe3SBCI"
      },
      "source": [
        "**표준화**"
      ]
    },
    {
      "cell_type": "code",
      "metadata": {
        "colab": {
          "base_uri": "https://localhost:8080/",
          "height": 204
        },
        "id": "dITOpxKgLwQF",
        "outputId": "cbb065f4-b67b-4eb6-d408-3fe56945734e"
      },
      "source": [
        "from sklearn.preprocessing import StandardScaler  # 표준화 패키지 라이브러리 \n",
        "x = df.drop(['target'], axis=1).values # 독립변인들의 value값만 추출\n",
        "y = df['target'].values # 종속변인 추출\n",
        "\n",
        "x = StandardScaler().fit_transform(x) # x객체에 x를 표준화한 데이터를 저장\n",
        "\n",
        "features = ['sepal length', 'sepal width', 'petal length', 'petal width']\n",
        "pd.DataFrame(x, columns=features).head()"
      ],
      "execution_count": null,
      "outputs": [
        {
          "output_type": "execute_result",
          "data": {
            "text/html": [
              "<div>\n",
              "<style scoped>\n",
              "    .dataframe tbody tr th:only-of-type {\n",
              "        vertical-align: middle;\n",
              "    }\n",
              "\n",
              "    .dataframe tbody tr th {\n",
              "        vertical-align: top;\n",
              "    }\n",
              "\n",
              "    .dataframe thead th {\n",
              "        text-align: right;\n",
              "    }\n",
              "</style>\n",
              "<table border=\"1\" class=\"dataframe\">\n",
              "  <thead>\n",
              "    <tr style=\"text-align: right;\">\n",
              "      <th></th>\n",
              "      <th>sepal length</th>\n",
              "      <th>sepal width</th>\n",
              "      <th>petal length</th>\n",
              "      <th>petal width</th>\n",
              "    </tr>\n",
              "  </thead>\n",
              "  <tbody>\n",
              "    <tr>\n",
              "      <th>0</th>\n",
              "      <td>-0.900681</td>\n",
              "      <td>1.032057</td>\n",
              "      <td>-1.341272</td>\n",
              "      <td>-1.312977</td>\n",
              "    </tr>\n",
              "    <tr>\n",
              "      <th>1</th>\n",
              "      <td>-1.143017</td>\n",
              "      <td>-0.124958</td>\n",
              "      <td>-1.341272</td>\n",
              "      <td>-1.312977</td>\n",
              "    </tr>\n",
              "    <tr>\n",
              "      <th>2</th>\n",
              "      <td>-1.385353</td>\n",
              "      <td>0.337848</td>\n",
              "      <td>-1.398138</td>\n",
              "      <td>-1.312977</td>\n",
              "    </tr>\n",
              "    <tr>\n",
              "      <th>3</th>\n",
              "      <td>-1.506521</td>\n",
              "      <td>0.106445</td>\n",
              "      <td>-1.284407</td>\n",
              "      <td>-1.312977</td>\n",
              "    </tr>\n",
              "    <tr>\n",
              "      <th>4</th>\n",
              "      <td>-1.021849</td>\n",
              "      <td>1.263460</td>\n",
              "      <td>-1.341272</td>\n",
              "      <td>-1.312977</td>\n",
              "    </tr>\n",
              "  </tbody>\n",
              "</table>\n",
              "</div>"
            ],
            "text/plain": [
              "   sepal length  sepal width  petal length  petal width\n",
              "0     -0.900681     1.032057     -1.341272    -1.312977\n",
              "1     -1.143017    -0.124958     -1.341272    -1.312977\n",
              "2     -1.385353     0.337848     -1.398138    -1.312977\n",
              "3     -1.506521     0.106445     -1.284407    -1.312977\n",
              "4     -1.021849     1.263460     -1.341272    -1.312977"
            ]
          },
          "metadata": {
            "tags": []
          },
          "execution_count": 22
        }
      ]
    },
    {
      "cell_type": "markdown",
      "metadata": {
        "id": "yBuXjm2FSDv-"
      },
      "source": [
        "**PCA 실행**"
      ]
    },
    {
      "cell_type": "code",
      "metadata": {
        "colab": {
          "base_uri": "https://localhost:8080/"
        },
        "id": "YLXmKh9KL84E",
        "outputId": "14433604-889d-4829-8a0d-33861939a1e9"
      },
      "source": [
        "from sklearn.decomposition import PCA\n",
        "pca = PCA(n_components=2) # 주성분을 몇개로 할지 결정\n",
        "printcipalComponents = pca.fit_transform(x)\n",
        "principalDf = pd.DataFrame(data=printcipalComponents, columns = ['principal component1', 'principal component2'])\n",
        "# 주성분으로 이루어진 데이터 프레임 구성\n",
        "principalDf.head()\n",
        "pca.explained_variance_ratio_"
      ],
      "execution_count": null,
      "outputs": [
        {
          "output_type": "execute_result",
          "data": {
            "text/plain": [
              "array([0.72770452, 0.23030523])"
            ]
          },
          "metadata": {
            "tags": []
          },
          "execution_count": 14
        }
      ]
    },
    {
      "cell_type": "markdown",
      "metadata": {
        "id": "IDGS_aj_Qv8B"
      },
      "source": [
        "**Time 비교**"
      ]
    },
    {
      "cell_type": "code",
      "metadata": {
        "colab": {
          "base_uri": "https://localhost:8080/"
        },
        "id": "JeMilJiqQIjT",
        "outputId": "48836014-9514-4054-b87a-eb14f72072d1"
      },
      "source": [
        "%%time\n",
        "url = \"https://archive.ics.uci.edu/ml/machine-learning-databases/iris/iris.data\"\n",
        "df = pd.read_csv(url, names=['sepal length','sepal width','petal length','petal width','target'])\n",
        "df.head()\n",
        "\n",
        "x = df.drop(['target'], axis=1).values # 독립변인들의 value값만 추출\n",
        "y = df['target'].values # 종속변인 추출\n",
        "\n",
        "x = StandardScaler().fit_transform(x) # x객체에 x를 표준화한 데이터를 저장\n",
        "\n",
        "features = ['sepal length', 'sepal width', 'petal length', 'petal width']\n",
        "pd.DataFrame(x, columns=features).head()\n",
        "\n",
        "pca = PCA(n_components=2) # 주성분을 몇개로 할지 결정\n",
        "printcipalComponents = pca.fit_transform(x)\n",
        "principalDf = pd.DataFrame(data=printcipalComponents, columns = ['principal component1', 'principal component2'])\n",
        "# 주성분으로 이루어진 데이터 프레임 구성\n",
        "principalDf.head()\n",
        "pca.explained_variance_ratio_"
      ],
      "execution_count": null,
      "outputs": [
        {
          "output_type": "stream",
          "text": [
            "CPU times: user 13.5 ms, sys: 1.81 ms, total: 15.3 ms\n",
            "Wall time: 939 ms\n"
          ],
          "name": "stdout"
        }
      ]
    }
  ]
}